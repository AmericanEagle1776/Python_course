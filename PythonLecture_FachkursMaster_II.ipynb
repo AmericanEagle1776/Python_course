{
 "cells": [
  {
   "cell_type": "markdown",
   "metadata": {},
   "source": [
    "# 'built-in' functions & control flow tools\n",
    "Jannis Uhlendorf, Jens Hahn - 15/05/2017\n",
    "## 'Built-in' functions\n",
    "#### What are 'built-in' functions?\n",
    "Built-in functions are functions that Python provides without the need of loading additional packages.\n",
    "As the name says, they are built in the native Python environment."
   ]
  },
  {
   "cell_type": "markdown",
   "metadata": {},
   "source": [
    "***\n",
    "<pre>\n",
    "```python\n",
    "print()\n",
    "```\n",
    "</pre> is a function that prints things out.\n",
    "This function is very important because it allows to print something out in the middle of you code."
   ]
  },
  {
   "cell_type": "markdown",
   "metadata": {},
   "source": [
    "You can find a list of Pythons built-in functions [here](https://docs.python.org/3/library/functions.html) (You should remember this link!)"
   ]
  },
  {
   "cell_type": "code",
   "execution_count": null,
   "metadata": {},
   "outputs": [],
   "source": [
    "a = 23\n",
    "print('I have assigned a variable a')\n",
    "b = 1\n",
    "print('Now I have assigned a variable b')\n",
    "c = 'meep'\n",
    "print(\"I don't want to assign any more variables\")"
   ]
  },
  {
   "cell_type": "markdown",
   "metadata": {},
   "source": [
    "***\n",
    "\n",
    "<pre>\n",
    "```python\n",
    "len()\n",
    "```\n",
    "</pre>can give you the length of various things. Lists as well as Strings."
   ]
  },
  {
   "cell_type": "code",
   "execution_count": null,
   "metadata": {},
   "outputs": [],
   "source": [
    "a = [1,2,3]\n",
    "len(a)"
   ]
  },
  {
   "cell_type": "code",
   "execution_count": null,
   "metadata": {},
   "outputs": [],
   "source": [
    "b = 'Jannis & Jens'\n",
    "len(b)"
   ]
  },
  {
   "cell_type": "markdown",
   "metadata": {},
   "source": [
    "***\n",
    "<pre>\n",
    "```python\n",
    "range()\n",
    "```\n",
    "</pre>is a very important built-in, it can give you an iterator, that is similar to list, but it generates the elements only when the user really needs it. That will become clearer later in this notebook.\n",
    "Nevertheless, it can give you 'something like a list' from a certain integer to a certain integer.\n",
    "**Please note:** The first integer is in the 'something like a list', the second is not anymore a part of the 'something like a list'."
   ]
  },
  {
   "cell_type": "code",
   "execution_count": null,
   "metadata": {},
   "outputs": [],
   "source": [
    "range(5)  # gives 0,1,2,3,4"
   ]
  },
  {
   "cell_type": "code",
   "execution_count": null,
   "metadata": {},
   "outputs": [],
   "source": [
    "for elem in range(5):\n",
    "    print(elem)"
   ]
  },
  {
   "cell_type": "code",
   "execution_count": null,
   "metadata": {},
   "outputs": [],
   "source": [
    "range(1,5)  # gives 1,2,3,4"
   ]
  },
  {
   "cell_type": "markdown",
   "metadata": {},
   "source": [
    "Built-in functions can also belong to a specific datatype.     \n",
    "We discussed some examples for the datatype **list**:"
   ]
  },
  {
   "cell_type": "code",
   "execution_count": null,
   "metadata": {},
   "outputs": [],
   "source": [
    "# index - give the position of the element\n",
    "elements = [1, 2, 3, 'Jens', 4, 5]\n",
    "elements.index('Jens')"
   ]
  },
  {
   "cell_type": "code",
   "execution_count": null,
   "metadata": {},
   "outputs": [],
   "source": [
    "# remove - remove the element from the list\n",
    "elements.remove('Jens')\n",
    "print(elements)"
   ]
  },
  {
   "cell_type": "code",
   "execution_count": null,
   "metadata": {},
   "outputs": [],
   "source": [
    "# append - append element to the list\n",
    "elements.append('Jens')\n",
    "print(elements)"
   ]
  },
  {
   "cell_type": "markdown",
   "metadata": {},
   "source": [
    "## String methods\n",
    "We also discussed some built-ins for the datatype String:\n",
    "* ```\"\".capitalize()```\n",
    "* ```\"\".split()```\n",
    "* ```\"\".startswith()```"
   ]
  },
  {
   "cell_type": "code",
   "execution_count": null,
   "metadata": {},
   "outputs": [],
   "source": [
    "# capitalize - capitalises the first letter of a String\n",
    "\"jens\".capitalize()"
   ]
  },
  {
   "cell_type": "code",
   "execution_count": null,
   "metadata": {},
   "outputs": [],
   "source": [
    "# upper - capitalises all letters of a String\n",
    "'attention!'.upper()"
   ]
  },
  {
   "cell_type": "code",
   "execution_count": null,
   "metadata": {},
   "outputs": [],
   "source": [
    "# lower - all letters of a String lower case\n",
    "'ATTENTION!'.lower()"
   ]
  },
  {
   "cell_type": "code",
   "execution_count": null,
   "metadata": {},
   "outputs": [],
   "source": [
    "# startswith() - does the string start with a particular sub-String?\n",
    "'meep'.startswith('me')"
   ]
  },
  {
   "cell_type": "code",
   "execution_count": null,
   "metadata": {},
   "outputs": [],
   "source": [
    "# split splits a at a certain character, if no character is given it uses spaces and newlines\n",
    "txt = \"\"\"\n",
    "Be not afraid of greatness: some are born great, \n",
    "some achieve greatness, and some have greatness \n",
    "thrust upon them. \"\"\"\n",
    "txt.split()"
   ]
  },
  {
   "cell_type": "code",
   "execution_count": null,
   "metadata": {},
   "outputs": [],
   "source": [
    "# split a string at commas\n",
    "txt = '1,5,16,22,3.5,7'\n",
    "txt.split(',')"
   ]
  },
  {
   "cell_type": "markdown",
   "metadata": {},
   "source": [
    "### joinin lists to create a string\n",
    "The opposite function of split is ```join()```, which is a method that joins the elemeents of a list. ```join``` is a member of the string class, so we execute it on a string."
   ]
  },
  {
   "cell_type": "code",
   "execution_count": null,
   "metadata": {},
   "outputs": [],
   "source": [
    "'_'.join(['eins', 'zwei', 'drei'])"
   ]
  },
  {
   "cell_type": "code",
   "execution_count": null,
   "metadata": {},
   "outputs": [],
   "source": [
    "# strip removeds leading and trailing whitespaces from a string\n",
    "'   hallo?     '.strip()"
   ]
  },
  {
   "cell_type": "markdown",
   "metadata": {},
   "source": [
    "### Occurrence testing"
   ]
  },
  {
   "cell_type": "code",
   "execution_count": null,
   "metadata": {},
   "outputs": [],
   "source": [
    "# we can use in to test whether a character of a word occurrs in a string\n",
    "print('python' in 'pythoncourse')\n",
    "print('fun' in 'pythoncourse')\n",
    "print('x' in 'pythoncourse')"
   ]
  },
  {
   "cell_type": "markdown",
   "metadata": {},
   "source": [
    "### ord and char\n",
    "The computer represents each character internally as a number. To convert a character to its corresponding number, the function ```ord()``` can be used. "
   ]
  },
  {
   "cell_type": "code",
   "execution_count": null,
   "metadata": {},
   "outputs": [],
   "source": [
    "print(ord('a'))\n",
    "print(ord('b'))\n",
    "print(ord('A'))"
   ]
  },
  {
   "cell_type": "code",
   "execution_count": null,
   "metadata": {},
   "outputs": [],
   "source": [
    "# conversly we can convert a number to a character using the function chr\n",
    "print(chr(97))\n",
    "print(chr(98))\n",
    "print(chr(65))"
   ]
  },
  {
   "cell_type": "markdown",
   "metadata": {},
   "source": [
    "### ```import``` a package"
   ]
  },
  {
   "cell_type": "markdown",
   "metadata": {},
   "source": [
    "Use the package ```random``` to let the computer make his choice    \n",
    "First, import the ```random``` package"
   ]
  },
  {
   "cell_type": "code",
   "execution_count": null,
   "metadata": {
    "collapsed": true
   },
   "outputs": [],
   "source": [
    "import random"
   ]
  },
  {
   "cell_type": "markdown",
   "metadata": {},
   "source": [
    "Most elegant, let the computer make a *choice*"
   ]
  },
  {
   "cell_type": "code",
   "execution_count": null,
   "metadata": {},
   "outputs": [],
   "source": [
    "random.choice(['rock', 'paper', 'scissors'])"
   ]
  },
  {
   "cell_type": "code",
   "execution_count": null,
   "metadata": {},
   "outputs": [],
   "source": [
    "import math\n",
    "math.cos(math.pi)"
   ]
  },
  {
   "cell_type": "markdown",
   "metadata": {},
   "source": [
    "### getting to know packages or objects```dir()```"
   ]
  },
  {
   "cell_type": "code",
   "execution_count": null,
   "metadata": {},
   "outputs": [],
   "source": [
    "# the dir methods returns a lists of the members of a package or object\n",
    "print(dir(math))\n",
    "print()\n",
    "print(dir([]))"
   ]
  },
  {
   "cell_type": "markdown",
   "metadata": {},
   "source": [
    "### Scope"
   ]
  },
  {
   "cell_type": "code",
   "execution_count": null,
   "metadata": {
    "collapsed": true
   },
   "outputs": [],
   "source": [
    "def multiply_numbers(x, y):\n",
    "    return x * y"
   ]
  },
  {
   "cell_type": "code",
   "execution_count": null,
   "metadata": {},
   "outputs": [],
   "source": [
    "multiply_numbers(1, 2)"
   ]
  },
  {
   "cell_type": "code",
   "execution_count": null,
   "metadata": {},
   "outputs": [],
   "source": [
    "print(x)"
   ]
  },
  {
   "cell_type": "markdown",
   "metadata": {},
   "source": [
    "The variable **```a```** is only known in the function ```multiply_numbers```. Outside of this function the variable is not known."
   ]
  },
  {
   "cell_type": "markdown",
   "metadata": {},
   "source": [
    "### Reference"
   ]
  },
  {
   "cell_type": "code",
   "execution_count": null,
   "metadata": {
    "collapsed": true
   },
   "outputs": [],
   "source": [
    "my_list1 = [1, 2, 3, 4]"
   ]
  },
  {
   "cell_type": "code",
   "execution_count": null,
   "metadata": {
    "collapsed": true
   },
   "outputs": [],
   "source": [
    "my_list2 = my_list1"
   ]
  },
  {
   "cell_type": "code",
   "execution_count": null,
   "metadata": {
    "collapsed": true
   },
   "outputs": [],
   "source": [
    "my_list2.append(5)"
   ]
  },
  {
   "cell_type": "code",
   "execution_count": null,
   "metadata": {},
   "outputs": [],
   "source": [
    "print(my_list1)"
   ]
  },
  {
   "cell_type": "markdown",
   "metadata": {},
   "source": [
    "**5** was added to ```my_list2``` and it also is appended to ```my_list1```, why?\n",
    "The variable ```my_list1``` holds a reference to the list, ```my_list2``` stores a reference to the same 'thing' as ```my_list1```.\n",
    "Let's have a look at the adresses of the Python 'things' in memory.\n",
    "Note that ```my_list1``` and ```my_list2``` have the same adress!!"
   ]
  },
  {
   "cell_type": "code",
   "execution_count": null,
   "metadata": {},
   "outputs": [],
   "source": [
    "id(my_list1)"
   ]
  },
  {
   "cell_type": "code",
   "execution_count": null,
   "metadata": {},
   "outputs": [],
   "source": [
    "id(my_list2)"
   ]
  },
  {
   "cell_type": "markdown",
   "metadata": {},
   "source": [
    "### Comprehensions"
   ]
  },
  {
   "cell_type": "code",
   "execution_count": null,
   "metadata": {},
   "outputs": [],
   "source": [
    "# get a time course for x^2\n",
    "time_course = []\n",
    "for i in range(10):\n",
    "    time_course.append(i ** 2)\n",
    "print(time_course)"
   ]
  },
  {
   "cell_type": "code",
   "execution_count": null,
   "metadata": {},
   "outputs": [],
   "source": [
    "time_course = [i**2 for i in range(10)]\n",
    "print(time_course)"
   ]
  },
  {
   "cell_type": "markdown",
   "metadata": {},
   "source": [
    "***"
   ]
  },
  {
   "cell_type": "code",
   "execution_count": null,
   "metadata": {},
   "outputs": [],
   "source": [
    "# get a dictionary for a time course of x^2\n",
    "time_course_dict = {}\n",
    "for i in range(10):\n",
    "    time_course_dict[i] = i ** 2\n",
    "print(time_course_dict)"
   ]
  },
  {
   "cell_type": "code",
   "execution_count": null,
   "metadata": {},
   "outputs": [],
   "source": [
    "time_course_dict = {i: i ** 2 for i in range(10)}\n",
    "print(time_course_dict)"
   ]
  },
  {
   "cell_type": "markdown",
   "metadata": {},
   "source": [
    "***"
   ]
  },
  {
   "cell_type": "code",
   "execution_count": null,
   "metadata": {},
   "outputs": [],
   "source": [
    "my_special_list = []\n",
    "for i in range(10):\n",
    "    if i % 2 == 0:\n",
    "        my_special_list.append(i)\n",
    "    else:\n",
    "        my_special_list.append('odd')\n",
    "print(my_special_list)"
   ]
  },
  {
   "cell_type": "code",
   "execution_count": null,
   "metadata": {},
   "outputs": [],
   "source": [
    "my_special_list = [i if i % 2 == 0 else 'odd' for i in range(10)]\n",
    "print(my_special_list)"
   ]
  },
  {
   "cell_type": "markdown",
   "metadata": {},
   "source": [
    "***"
   ]
  },
  {
   "cell_type": "code",
   "execution_count": null,
   "metadata": {
    "collapsed": true
   },
   "outputs": [],
   "source": [
    "nested_list = [[1], [2, 3], [4], [5, 6, 7]]"
   ]
  },
  {
   "cell_type": "code",
   "execution_count": null,
   "metadata": {},
   "outputs": [],
   "source": [
    "flattened_list = []\n",
    "for sub_list in nested_list:\n",
    "    for num in sub_list:\n",
    "        flattened_list.append(num)\n",
    "print(flattened_list)"
   ]
  },
  {
   "cell_type": "code",
   "execution_count": null,
   "metadata": {},
   "outputs": [],
   "source": [
    "flattened_list = [num for sub_list in nested_list for num in sub_list]\n",
    "print(flattened_list)"
   ]
  },
  {
   "cell_type": "markdown",
   "metadata": {},
   "source": [
    "## Collections\n",
    "\n",
    "The collections package provides lots of useful methods and alternatives to the standard python data types (```dict```, ```list```, ```set``` and ```tuple```)\n"
   ]
  },
  {
   "cell_type": "code",
   "execution_count": null,
   "metadata": {
    "collapsed": true
   },
   "outputs": [],
   "source": [
    "import collections"
   ]
  },
  {
   "cell_type": "markdown",
   "metadata": {},
   "source": [
    "We can for example use the collections package to count the number ov occurrences of objects in lists"
   ]
  },
  {
   "cell_type": "code",
   "execution_count": null,
   "metadata": {},
   "outputs": [],
   "source": [
    "numbers = [1, 2, 3, 4, 3, 2, 3, 5, 3, 4, 5, 2, 1, 2, 3, 2, 1, 3, 3, 5, 4, 6, 5]\n",
    "\n",
    "collections.Counter(numbers)"
   ]
  }
 ],
 "metadata": {
  "kernelspec": {
   "display_name": "Python 3",
   "language": "python",
   "name": "python3"
  },
  "language_info": {
   "codemirror_mode": {
    "name": "ipython",
    "version": 3
   },
   "file_extension": ".py",
   "mimetype": "text/x-python",
   "name": "python",
   "nbconvert_exporter": "python",
   "pygments_lexer": "ipython3",
   "version": "3.5.2"
  }
 },
 "nbformat": 4,
 "nbformat_minor": 2
}
